{
 "cells": [
  {
   "cell_type": "code",
   "execution_count": null,
   "metadata": {},
   "outputs": [],
   "source": [
    "def w(t, char, psi, T):\n",
    "    \"\"\"\n",
    "    char is a utf-8 character, psi a function, T the time interval of the pulse train\n",
    "    Returns the pulse train\n",
    "    \"\"\"\n",
    "    pass"
   ]
  },
  {
   "cell_type": "code",
   "execution_count": null,
   "metadata": {},
   "outputs": [],
   "source": [
    "def sample(w, T, T_min, T_max):\n",
    "    \"\"\"\n",
    "    sample w every T time interval between T_min and T_max\n",
    "    \"\"\"\n",
    "    sample = []\n",
    "    for t in np.linspace(T_min, T_max, T):\n",
    "        sample.append(w(t))\n",
    "    return sample"
   ]
  },
  {
   "cell_type": "code",
   "execution_count": null,
   "metadata": {},
   "outputs": [],
   "source": [
    "def remove_index(out):\n",
    "    \"\"\"\n",
    "    remove deleted index\n",
    "    \"\"\"\n",
    "    n = out.shape[0]\n",
    "    n_eff = n-n%3\n",
    "    estim = np.zeros(3)\n",
    "    for i, y in enumerate(out[:n_eff]):\n",
    "        estim[i%3] += y**2\n",
    "    estim /= n_eff/3\n",
    "    H_hat = np.argmin(estim)\n",
    "    \n",
    "    out_clean = []\n",
    "    for i, y in enumerate(out):\n",
    "        if i%3 != H_hat: out_clean.append(y)\n",
    "    \n",
    "    return out_clean, H_hat"
   ]
  },
  {
   "cell_type": "code",
   "execution_count": null,
   "metadata": {},
   "outputs": [],
   "source": [
    "def remove_noise(y, m, filter='moving average'):\n",
    "    \"\"\"\n",
    "    filter the noisy signal to remove noise\n",
    "    \"\"\"\n",
    "    # Careful: filter reduces size of y, pad y with 0s to keep same size\n",
    "    \n",
    "    if filter == 'moving average':\n",
    "        pass"
   ]
  },
  {
   "cell_type": "code",
   "execution_count": null,
   "metadata": {},
   "outputs": [],
   "source": [
    "def get_charac(w_hat, psi, T_min, T_max, T):\n",
    "    \"\"\"\n",
    "    Performs w_hat dot psi_j for every j to recover the bits\n",
    "    \"\"\"\n",
    "    bits = [0]*7\n",
    "    N0_eff = 2*(T_max-T_min)/T//3\n",
    "    for k in range(7):\n",
    "        signal = np.array(w_hat[k*N0:(k+1)*N0])\n",
    "        dot_product = signal.dot(np.array([psi(j*T) for j in range(N0_eff//7)]))\n",
    "        bits[k] = (np.sign(dot_product)+1)/2\n",
    "        \n",
    "    decoded_ints = [int(''.join(bits[7*i:7*(i+1)].astype(str)), 2) for i in range(len(bits)//7)]\n",
    "    decoded_bytes = bytes(decoded_ints)\n",
    "    \n",
    "    return decoded_bits.decode('utf-8')"
   ]
  }
 ],
 "metadata": {
  "kernelspec": {
   "display_name": "Python 3",
   "language": "python",
   "name": "python3"
  },
  "language_info": {
   "codemirror_mode": {
    "name": "ipython",
    "version": 3
   },
   "file_extension": ".py",
   "mimetype": "text/x-python",
   "name": "python",
   "nbconvert_exporter": "python",
   "pygments_lexer": "ipython3",
   "version": "3.9.0"
  }
 },
 "nbformat": 4,
 "nbformat_minor": 4
}
