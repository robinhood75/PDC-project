{
 "cells": [
  {
   "cell_type": "code",
   "execution_count": 13,
   "metadata": {},
   "outputs": [],
   "source": [
    "from scipy import special as sp\n",
    "from math import sqrt\n",
    "import numpy as np\n",
    "\n",
    "def Q(x):\n",
    "    return 0.5-0.5*sp.erf(x/sqrt(2))\n",
    "\n",
    "def pr_err(decomp, iters):\n",
    "    \"\"\"decomp, iters = lists\"\"\"\n",
    "    prod = 1\n",
    "    for j in range(len(decomp)):\n",
    "        prod *= (1-Q(sqrt(2)*sqrt(iters[j]/10)))**(decomp[j]-1)\n",
    "    return 1-prod"
   ]
  },
  {
   "cell_type": "code",
   "execution_count": 29,
   "metadata": {},
   "outputs": [
    {
     "name": "stdout",
     "output_type": "stream",
     "text": [
      "decomp * iters = 490 (should be below 500)\n",
      "Pr_err = 3.609 %\n"
     ]
    }
   ],
   "source": [
    "decomp = [4,4,2,2,2]\n",
    "iters = [35,35,35,35,35]\n",
    "print(\"decomp * iters = {} (should be below 500)\".format(np.array(decomp).dot(np.array(iters))))\n",
    "print(\"Pr_err = {} %\".format(round(100*pr_err(decomp, iters),3)))"
   ]
  },
  {
   "cell_type": "code",
   "execution_count": null,
   "metadata": {},
   "outputs": [],
   "source": []
  }
 ],
 "metadata": {
  "kernelspec": {
   "display_name": "Python 3",
   "language": "python",
   "name": "python3"
  },
  "language_info": {
   "codemirror_mode": {
    "name": "ipython",
    "version": 3
   },
   "file_extension": ".py",
   "mimetype": "text/x-python",
   "name": "python",
   "nbconvert_exporter": "python",
   "pygments_lexer": "ipython3",
   "version": "3.9.0"
  }
 },
 "nbformat": 4,
 "nbformat_minor": 4
}
